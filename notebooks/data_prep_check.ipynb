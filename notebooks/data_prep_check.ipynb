{
 "cells": [
  {
   "cell_type": "code",
   "execution_count": 19,
   "metadata": {
    "collapsed": true
   },
   "outputs": [],
   "source": [
    "import sys\n",
    "import pickle\n",
    "\n",
    "sys.path.append('../scripts')"
   ]
  },
  {
   "cell_type": "code",
   "execution_count": 2,
   "metadata": {},
   "outputs": [],
   "source": [
    "from preprocessing import *"
   ]
  },
  {
   "cell_type": "code",
   "execution_count": 15,
   "metadata": {
    "collapsed": true
   },
   "outputs": [],
   "source": [
    "train_path = '../data/Devex_train.csv'\n",
    "test_path = '../data/Devex_test_questions.csv'"
   ]
  },
  {
   "cell_type": "markdown",
   "metadata": {},
   "source": [
    "# Preprocess data"
   ]
  },
  {
   "cell_type": "code",
   "execution_count": null,
   "metadata": {
    "collapsed": true
   },
   "outputs": [],
   "source": [
    "nltk.download('stopwords')\n",
    "nltk.download('wordnet')"
   ]
  },
  {
   "cell_type": "code",
   "execution_count": 3,
   "metadata": {},
   "outputs": [
    {
     "name": "stdout",
     "output_type": "stream",
     "text": [
      "[nltk_data] Downloading package stopwords to\n",
      "[nltk_data]     /home/thembani/nltk_data...\n",
      "[nltk_data]   Package stopwords is already up-to-date!\n",
      "[nltk_data] Downloading package wordnet to /home/thembani/nltk_data...\n",
      "[nltk_data]   Package wordnet is already up-to-date!\n"
     ]
    },
    {
     "name": "stderr",
     "output_type": "stream",
     "text": [
      "clean_text: 100%|██████████| 3993/3993 [00:09<00:00, 436.76it/s]\n"
     ]
    },
    {
     "name": "stdout",
     "output_type": "stream",
     "text": [
      "10000 unique words identified (limited)\n"
     ]
    }
   ],
   "source": [
    "all_text = read_combine(train_path,test_path)\n",
    "clean_text = prepare_text(all_text)\n",
    "text_data = TextData(clean_text, limit_words=True)"
   ]
  },
  {
   "cell_type": "code",
   "execution_count": 12,
   "metadata": {},
   "outputs": [
    {
     "data": {
      "text/plain": [
       "['Research on Regenerative Medicine <h2><strong>Introduction</strong></h2>    <p>Supports translation of fundamental discoveries toward benefits to human health.</p>    <p>The translation of the burgeoning knowledge in regenerative medicine into new treatment strategies is a key objective of the MRC&rsquo;s strategic plan. The Biomedical Catalyst: Regenerative Medicine Research Committee (RMRC) provides support for high quality proposals that may underpin or progress the development of &nbsp;regenerative medicine therapies to improve human health. The RMRC:</p>    <ul>    <li>Supports confidence in concept studies that if successful will promote the translation of fundamental discoveries toward benefits to human health, thereby accelerating the transition from discovery research to mature translational development projects</li>    <li>Funds preliminary work or feasibility studies to establish the viability of an approach, through addressing focussed research questions needed to unlock progress in pre-clinical development and/or early clinical testing of novel regenerative medicine therapies</li>    <li>Forms part of the MRC&rsquo;s Translational Research Strategy and forms part of the Biomedical Catalyst funding stream, operating in conjunction with the Developmental Pathway Funding Scheme</li>    </ul>    <h2><strong>Background</strong></h2>    <p>The translation of the burgeoning knowledge in regenerative medicine into new treatment strategies is a key objective of the MRC&rsquo;s strategic plan.</p>    <div>    <p>The Biomedical Catalyst: Regenerative Medicine Research Committee (RMRC) will provide support for high quality proposals aiming to provide sufficient preliminary data to establish the viability of further progressing a regenerative medicine approach before seeking more substantive funding through the Developmental Pathway Funding Scheme. It is intended to de-risk and/or accelerate the transition from discovery research through to mature translational development projects.</p>    <p>&nbsp;</p>    <h2><strong>Who can apply?</strong></h2>    <div>    <ul>    <li>Those eligible for standard MRC research grants as described in the guidance&nbsp;for applicants and the Research Councils UK website</li>    <li>MRC unit/institute staff</li>    <li>Investigators from international institutions can apply as co-applicants. However, the research should be carried out for the main part within the UK and be clearly led by a UK principle investigator within a UK institution</li>    </ul>    </div>    </div>',\n",
       " \"Action for Global Health: <p>Action for Global Health (AfGH) is a broad European network of NGOs advocating for Europe to play a more proactive role in enabling developing countries to meet the Right to health for all and the Health Millennium Development Goals (MDGs).</p>    <p>&nbsp;</p>    <p>Established in 2006, today AfGH is active in France, Germany, Italy, Spain, Holland, the UK and Brussels and has over 30 member NGOs across these countries.</p>    <p>&nbsp;</p>    <p>As a network of development and health organisations we bring a unique blend of expertise, of disease and non-disease specific organisations. AfGH builds on its experience and capacity to hold European governments and EU institutions accountable for their political commitments and policy efforts to ensure the progress of the Health MDGs, through full funding of health, strengthening health systems and ensuring fair access to healthcare.</p>    <p>&nbsp;</p>    <p>We continue to take an important role in ensuring official development assistance (ODA) for global health, deeply threatened in the current economic climate, is maintained. Our main actions take place in Europe, particularly Brussels and EU member states, targeting the EU institutions and key member state governments. We develop policy analysis and research, engaging with other civil society groups both in Brussels and throughout the EU, to build advocacy alliances.</p>    <p>&nbsp;</p>    <p>The strength of the network is based on the capacity of its members to cooperate, linking the national, EU institutional, and the global agendas for Health. We reach out to decision-makers and the media so as to influence EU decisions on global health and highlight the need for action in order to meet the global commitments for health. Our messages and our policy expertise are built through research in Europe and in developing countries, where we benefit from the expertise and evidence provided by Southern partners of our member organisations.</p>    <p>&nbsp;</p>    <p>Plan UK are lead partner of the network and have overarching responsibility for its&rsquo; governance. Our coordination team are based in Brussels, hosted within Plan EU&rsquo;s offices. For more information on our partners please follow this link.</p>    <p>&nbsp;</p>    <p>Take some time to browse the resources on our website to learn more about our work and how to engage in our advocacy and campaign actions. You can also read AfGH's Story of Change, a shared reflection about our network and our work over the past five years, highlighting successes and challenges faced along the way.</p>    <p>&nbsp;</p>    <p><strong>Our Approach</strong></p>    <p>Action for Global Health (AfGH) advocates for the implementation of common principles and basic measures that will improve health policies and enable universal access to health care in developing countries as a way to eradicate poverty and promote human rights. We see in European governments and the European Commission a clear responsibility to promote the right to health in developing countries. In particular, we frame our calls around UN commitments that are still to be met by our governments.</p>    <p>&nbsp;</p>    <p>Health as a Human Right was established by the International Convention on human rights, more than 60 years ago.&nbsp; The goal for governments to provide every individual access to basic health care was already set as a global standard in 1978 at Alma Atta, with a goal established for the year 2000. The HIV/AIDS epidemic of the late 20th century pushed back the expected progress. In 2000, 189 countries renewed their commitment and signed the Millennium Declaration, to eradicate poverty and to make the right to development of world&rsquo;s poorest countries a reality.</p>    <p>&nbsp;</p>    <p>The so called Millennium Development Goals (MDGs), with a target date of 2015, represent a global partnership promoting poverty reduction, food security, gender equality, education, maternal health and aim at combating child mortality, AIDS and other diseases.</p>    <p>&nbsp;</p>    <p>Three out of eight of these goals focus specifically on health:</p>    <ul>    <li>Reduce child mortality</li>    <li>Improve maternal health</li>    <li>Combat HIV/AIDs, Malaria, and other diseases.</li>    </ul>    <p>&nbsp;</p>    <p><strong>What we call for:</strong></p>    <p>We call for Europe to urgently adopt a concrete and measurable plan to support developing countries reach the MDGs by 2015 and to allocate all the necessary financial resources to implement it.</p>    <p>&nbsp;</p>    <p>Action for Global Health believes that if the health MDGs are to be met, Europe and the international community must make available, with no further delay,&nbsp;full financial resources to respond to the health needs of the world poorest countries; prioritising the development of&nbsp;strong health systems&nbsp;that count with a well-resourced health workforce; and ensuring&nbsp;fair access&nbsp;to comprehensive primary health care to the poorest and most marginalised populations.</p>    <p>&nbsp;</p>    <p>Achieving further progress on the health MDGs will require the underlying shortfalls of weak health systems; inadequate financing of the health sector in developing countries, and inequitable access to health services to be addressed. This means taking&nbsp;urgent action to deliver universal access to primary health care, including preventative services and will require a rapid scaling up of efforts to address the weaknesses in health service delivery caused by huge shortages of human resources, drug stock-outs and inadequate funding, alongside more concerted efforts to&nbsp;remove the social, cultural and financial barriers&nbsp;that prevent many people in low and middle-income countries from accessing the healthcare that they need. &nbsp;</p>    <p>&nbsp;</p>\"]"
      ]
     },
     "execution_count": 12,
     "metadata": {},
     "output_type": "execute_result"
    }
   ],
   "source": [
    "list(all_text[1])"
   ]
  },
  {
   "cell_type": "code",
   "execution_count": 11,
   "metadata": {
    "scrolled": false
   },
   "outputs": [
    {
     "data": {
      "text/plain": [
       "['feasibility',\n",
       " 'funding',\n",
       " 'quality',\n",
       " 'focussed',\n",
       " 'approach',\n",
       " 'guidance',\n",
       " 'burgeoning',\n",
       " 'discovery',\n",
       " 'developmental',\n",
       " 'progressing',\n",
       " 'proposal',\n",
       " 'committee',\n",
       " 'research',\n",
       " 'successful',\n",
       " 'aiming',\n",
       " 'substantive',\n",
       " 'discovery',\n",
       " 'pathway',\n",
       " 'biomedical',\n",
       " 'unlock',\n",
       " 'seeking',\n",
       " 'rmrc',\n",
       " 'eligible',\n",
       " 'unit',\n",
       " 'principle',\n",
       " 'scheme',\n",
       " 'council',\n",
       " 'operating',\n",
       " 'accelerate',\n",
       " 'strategy',\n",
       " 'novel',\n",
       " 'toward',\n",
       " 'knowledge',\n",
       " 'testing',\n",
       " 'establish',\n",
       " 'standard',\n",
       " 'staff',\n",
       " 'stream',\n",
       " 'progress',\n",
       " 'translation',\n",
       " 'early',\n",
       " 'provide',\n",
       " 'treatment',\n",
       " 'institution',\n",
       " 'catalyst',\n",
       " 'medicine',\n",
       " 'transition',\n",
       " 'promote',\n",
       " 'however',\n",
       " 'support',\n",
       " 'regenerative',\n",
       " 'question',\n",
       " 'needed',\n",
       " 'investigator',\n",
       " 'underpin',\n",
       " 'institution',\n",
       " 'fund',\n",
       " 'addressing',\n",
       " 'sufficient',\n",
       " 'data',\n",
       " 'plan',\n",
       " 'benefit',\n",
       " 'fundamental',\n",
       " 'improve',\n",
       " 'clearly',\n",
       " 'strategic',\n",
       " 'project',\n",
       " 'human',\n",
       " 'support',\n",
       " 'thereby',\n",
       " 'strategy',\n",
       " 'accelerating',\n",
       " 'institute',\n",
       " 'risk',\n",
       " 'described',\n",
       " 'grant',\n",
       " 'confidence',\n",
       " 'objective',\n",
       " 'background',\n",
       " 'form',\n",
       " 'website',\n",
       " 'high',\n",
       " 'within',\n",
       " 'concept',\n",
       " 'investigator',\n",
       " 'clinical',\n",
       " 'preliminary',\n",
       " 'viability',\n",
       " 'international',\n",
       " 'study',\n",
       " 'apply',\n",
       " 'therapy',\n",
       " 'translational',\n",
       " 'health',\n",
       " 'mature',\n",
       " 'development',\n",
       " 'conjunction',\n",
       " 'main',\n",
       " 'work',\n",
       " 'introduction',\n",
       " 'carried',\n",
       " 'provides',\n",
       " 'applicant',\n",
       " 'part',\n",
       " 'intended']"
      ]
     },
     "execution_count": 11,
     "metadata": {},
     "output_type": "execute_result"
    }
   ],
   "source": [
    "text_data.cleaned_text[1]"
   ]
  },
  {
   "cell_type": "code",
   "execution_count": 22,
   "metadata": {},
   "outputs": [],
   "source": [
    "with open('../data/text_data.pickle', 'wb') as datafile:\n",
    "    pickle.dump(text_data, datafile)"
   ]
  },
  {
   "cell_type": "markdown",
   "metadata": {},
   "source": [
    "# Type Model"
   ]
  },
  {
   "cell_type": "code",
   "execution_count": 31,
   "metadata": {
    "collapsed": true
   },
   "outputs": [],
   "source": [
    "train = pd.read_csv(train_path, encoding=\"ISO-8859-1\")\n",
    "test = pd.read_csv(test_path, encoding=\"ISO-8859-1\")\n",
    "combined_text = train.append(test)"
   ]
  },
  {
   "cell_type": "code",
   "execution_count": 30,
   "metadata": {},
   "outputs": [],
   "source": [
    "type_df = pd.get_dummies(combined_text['Type'])\n",
    "type_df.index = combined_text['Unique ID']\n",
    "type_df.to_csv('../data/type_df.csv')"
   ]
  }
 ],
 "metadata": {
  "kernelspec": {
   "display_name": "zindi_sdg",
   "language": "python",
   "name": "zindi_sdg"
  },
  "language_info": {
   "codemirror_mode": {
    "name": "ipython",
    "version": 3
   },
   "file_extension": ".py",
   "mimetype": "text/x-python",
   "name": "python",
   "nbconvert_exporter": "python",
   "pygments_lexer": "ipython3",
   "version": "3.7.0"
  }
 },
 "nbformat": 4,
 "nbformat_minor": 2
}
